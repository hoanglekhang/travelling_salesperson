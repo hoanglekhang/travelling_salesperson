{
 "cells": [
  {
   "cell_type": "code",
   "execution_count": 1,
   "metadata": {},
   "outputs": [],
   "source": [
    "def read_names(file_path):\n",
    "    \"\"\"Read city names from a file.\"\"\"\n",
    "    with open(file_path, 'r') as file:\n",
    "        names = file.read().splitlines()\n",
    "    return names\n",
    "\n",
    "def read_distances(file_path):\n",
    "    \"\"\"Read city distance matrix from a file.\"\"\"\n",
    "    with open(file_path, 'r') as file:\n",
    "        distances = [[float(value) for value in line.split()] for line in file]\n",
    "    return distances\n",
    "\n",
    "def calculate_tour_distance(tour, distances):\n",
    "    \"\"\"Calculate the total distance of a tour.\"\"\"\n",
    "    total_distance = 0\n",
    "    for i in range(len(tour) - 1):\n",
    "        total_distance += distances[tour[i]][tour[i + 1]]\n",
    "    total_distance += distances[tour[-1]][tour[0]]  # Return to start\n",
    "    return total_distance"
   ]
  },
  {
   "cell_type": "code",
   "execution_count": 6,
   "metadata": {},
   "outputs": [
    {
     "name": "stdout",
     "output_type": "stream",
     "text": [
      "Best Tour: ['Azores', 'Baghdad', 'Berlin', 'Bombay', 'Buenos Aires', 'Cairo', 'Capetown', 'Chicago', 'Guam', 'Honolulu', 'Istanbul', 'Juneau', 'London', 'Manila', 'Melbourne', 'Mexico City', 'Montreal', 'Panama City', 'New Orleans', 'New York', 'Moscow', 'Paris', 'Rio de Janeiro', 'Rome', 'San Francisco', 'Santiago', 'Seattle', 'Shanghai', 'Sydney', 'Tokyo', 'Azores']\n",
      "Total Distance: 1542.0\n"
     ]
    }
   ],
   "source": [
    "import random\n",
    "def mutate_tour(tour):\n",
    "    \"\"\"Make a small random change in the TSP solution to generate another solution.\"\"\"\n",
    "    tour_copy = tour[:]\n",
    "    city1, city2 = random.sample(range(len(tour)), 2)\n",
    "    tour_copy[city1], tour_copy[city2] = tour_copy[city2], tour_copy[city1]\n",
    "    return tour_copy\n",
    "\n",
    "def tsp_evolution(name_file, distance_file):\n",
    "    \"\"\"Perform the evolutionary algorithm to find a TSP solution.\"\"\"\n",
    "    global best_solution, best_distance\n",
    "    names = read_names(name_file)\n",
    "    distances = read_distances(distance_file)\n",
    "    current_solution = list(range(len(names)))  # Initial TSP solution\n",
    "    current_distance = calculate_tour_distance(current_solution, distances)\n",
    "    best_solution = current_solution[:]\n",
    "    best_distance = current_distance\n",
    "    stagnations = 0\n",
    "\n",
    "    while stagnations < 5:\n",
    "        new_solution = mutate_tour(current_solution)\n",
    "        new_distance = calculate_tour_distance(new_solution, distances)\n",
    "\n",
    "        if new_distance < best_distance:\n",
    "            best_solution = new_solution\n",
    "            best_distance = new_distance\n",
    "            stagnations = 0  # Reset stagnations\n",
    "        else:\n",
    "            stagnations += 1  # Increment stagnation counter\n",
    "\n",
    "        if stagnations == 5:\n",
    "            better_solution_found = False\n",
    "            # Mutate three times to escape local optimum\n",
    "            for _ in range(3):\n",
    "                current_solution = mutate_tour(current_solution)\n",
    "                current_distance = calculate_tour_distance(current_solution, distances)\n",
    "                if current_distance < best_distance:\n",
    "                    best_solution = current_solution\n",
    "                    best_distance = current_distance\n",
    "                    better_solution_found = True\n",
    "                    break  # Exit the loop if a better solution is found\n",
    "            if better_solution_found:\n",
    "                stagnations = 0  # Reset stagnations if a better solution is found\n",
    "            else:\n",
    "                stagnations = 5  # Maintain stagnation count to force termination\n",
    "    best_tour_names = []\n",
    "    for city in best_solution:\n",
    "        best_tour_names.append(names[city])\n",
    "    best_tour_names.append(names[best_solution[0]])\n",
    "    print(\"Best Tour:\", best_tour_names)\n",
    "    print(\"Total Distance:\", round(best_distance, 2))\n",
    "tsp_evolution('thirty_cities_names.txt', 'thirty_cities_dist.txt')\n"
   ]
  }
 ],
 "metadata": {
  "kernelspec": {
   "display_name": "Python 3",
   "language": "python",
   "name": "python3"
  },
  "language_info": {
   "codemirror_mode": {
    "name": "ipython",
    "version": 3
   },
   "file_extension": ".py",
   "mimetype": "text/x-python",
   "name": "python",
   "nbconvert_exporter": "python",
   "pygments_lexer": "ipython3",
   "version": "3.10.13"
  }
 },
 "nbformat": 4,
 "nbformat_minor": 2
}
