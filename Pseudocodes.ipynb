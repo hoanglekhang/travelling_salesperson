{
 "cells": [
  {
   "cell_type": "markdown",
   "metadata": {},
   "source": [
    "# Greedy algorithm pseudocodes\n",
    "INPUT: Distances, a Matrix of distances between each pair of cityies  \n",
    "OUTPUT: best TSP solution from *n* execuutions of the Greedy algorithm  \n",
    "\n",
    "INITIALIZE bestTour as an empty list  \n",
    "INITIALIZE bestDistance as infinity   \n",
    "\n",
    "FOR each cityIndex in range (0,*n*) as startCity:   \n",
    "Initialize currentTour with sartCity  \n",
    "Initialize unvisitedCities as a set of all cities except startCity  \n",
    "Initialize currentCity as startCity   \n",
    "Initialize totalDistance of currentTour as 0   \n",
    "WHILE unvisitedCities is not empty:   \n",
    "Find nextCity, the nearest unvisited city to currentCity  \n",
    "Add nextCity to currentTour  \n",
    "Remove nextCity from unvisitedCities  \n",
    "Update totalDistance of currentTour  \n",
    "Update currentCity to nextCity  \n",
    "\n",
    "IF totalDistance of currentTour is less than bestDistance:  \n",
    "Update bestTour to currentTour  \n",
    "Update bestDistance to totalDistance  \n",
    "\n",
    "\n"
   ]
  }
 ],
 "metadata": {
  "language_info": {
   "name": "python"
  }
 },
 "nbformat": 4,
 "nbformat_minor": 2
}
