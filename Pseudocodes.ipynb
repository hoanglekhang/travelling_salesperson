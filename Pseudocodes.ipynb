{
 "cells": [
  {
   "cell_type": "markdown",
   "metadata": {},
   "source": [
    "# Greedu algorithm pseudocodes\n",
    "input: Matrix of distances between cityies.  \n",
    "ouput: best TSP solution.  \n",
    "\n",
    "FUNCTION read name file, distance file.  \n",
    "start_city = name[index].  \n",
    "current_city = start_city.  \n",
    "visited = set name - start_city\n",
    "\n"
   ]
  }
 ],
 "metadata": {
  "language_info": {
   "name": "python"
  }
 },
 "nbformat": 4,
 "nbformat_minor": 2
}
