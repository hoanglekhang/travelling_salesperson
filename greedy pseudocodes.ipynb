{
 "cells": [
  {
   "cell_type": "markdown",
   "metadata": {},
   "source": [
    "INPUT: distances, a matrix of distances between each pair of *n* cities  \n",
    "OUTPUT: Best TSP solution from n executions of the greedy algorithm\n",
    "\n",
    "Initialize bestTour as an empty list\n",
    "Initialize bestDistance as infinity\n",
    "\n",
    "FOR each cityIndex in range(0, *n*) as startCity:  \n",
    "    Initialize currentTour with startCity  \n",
    "    Initialize unvisitedCities as a set of all cities except startCity  \n",
    "    Initialize currentCity as startCity  \n",
    "    Initialize totalDistance of currentTour as 0  \n",
    "\n",
    "    WHILE unvisitedCities is not empty:\n",
    "        Find nextCity, the nearest unvisited city to currentCity\n",
    "        Add nextCity to currentTour\n",
    "        Remove nextCity from unvisitedCities\n",
    "        Update totalDistance of currentTour\n",
    "        Update currentCity to nextCity\n",
    "\n",
    "\n",
    "    IF totalDistance of currentTour is less than bestDistance:\n",
    "        Update bestTour to currentTour\n",
    "        Update bestDistance to totalDistance"
   ]
  }
 ],
 "metadata": {
  "language_info": {
   "name": "python"
  }
 },
 "nbformat": 4,
 "nbformat_minor": 2
}
