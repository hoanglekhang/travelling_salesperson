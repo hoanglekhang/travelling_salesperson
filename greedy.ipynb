{
 "cells": [
  {
   "cell_type": "code",
   "execution_count": 18,
   "metadata": {},
   "outputs": [],
   "source": [
    "def read_names(file_path):\n",
    "    \"\"\"Read city names from a file.\"\"\"\n",
    "    names = []\n",
    "    with open(file_path, 'r') as file:\n",
    "        for line in file:\n",
    "            names.append(line.strip())\n",
    "    return names\n",
    "\n",
    "def read_distances(file_path):\n",
    "    \"\"\"Read city distance matrix from a file.\"\"\"\n",
    "    distances = []\n",
    "    with open(file_path, 'r') as file:\n",
    "        for line in file:\n",
    "            line_distances = []\n",
    "            values = line.split()\n",
    "            for value in values:\n",
    "                line_distances.append(float(value))\n",
    "            distances.append(line_distances)\n",
    "    return distances"
   ]
  },
  {
   "cell_type": "code",
   "execution_count": 19,
   "metadata": {},
   "outputs": [],
   "source": [
    "def calculate_total_distance(tour, distances):\n",
    "    \"\"\"Calculate the total distance of a tour.\"\"\"\n",
    "    total_distance = 0\n",
    "    for i in range(len(tour) - 1):\n",
    "        total_distance += distances[tour[i]][tour[i + 1]]\n",
    "    total_distance += distances[tour[-1]][tour[0]]  # Return to start\n",
    "    return total_distance"
   ]
  },
  {
   "cell_type": "code",
   "execution_count": 20,
   "metadata": {},
   "outputs": [],
   "source": [
    "def find_nearest_city(last_city, unvisited, distances):\n",
    "    \"\"\"Find the nearest unvisited city to the current city.\"\"\"\n",
    "    nearest_city = None\n",
    "    nearest_city_distance = float('inf')\n",
    "    for candidate_city in unvisited:\n",
    "        distance = distances[last_city][candidate_city]\n",
    "        if distance < nearest_city_distance:\n",
    "            nearest_city_distance = distance\n",
    "            nearest_city = candidate_city\n",
    "    return nearest_city"
   ]
  },
  {
   "cell_type": "code",
   "execution_count": 21,
   "metadata": {},
   "outputs": [],
   "source": [
    "def tsp_greedy(names, distances):\n",
    "    \"\"\"\n",
    "    This function takes as input the paths to two files: one containing the names of the cities,\n",
    "    and the other containing the distances between each pair of cities. It then computes the\n",
    "    shortest possible tour that visits each city exactly once and returns to the starting city,\n",
    "    by following a greedy approach. For each city used as a starting point, the algorithm\n",
    "    constructs a tour that at each step extends the current tour by moving to the nearest\n",
    "    unvisited city. The function finally prints the names of the cities in the order they are\n",
    "    visited in the best tour found, as well as the total distance of this tour.\n",
    "    Parameters:\n",
    "    - names (str): The file path to the text file containing city names.\n",
    "    - distances (str): The file path to the text file containing the distance matrix,\n",
    "      with each row representing the distances from a city to all other cities.\n",
    "    \"\"\"\n",
    "    best_tour = []\n",
    "    best_distance = float('inf')\n",
    "\n",
    "    for start_city in range(len(names)):\n",
    "        current_tour = [start_city]\n",
    "        unvisited = set(range(len(names))) - {start_city}\n",
    "\n",
    "        while unvisited:\n",
    "            last_city = current_tour[-1]\n",
    "            nearest_city = find_nearest_city(last_city, unvisited, distances)\n",
    "            current_tour.append(nearest_city)\n",
    "            unvisited.remove(nearest_city)\n",
    "\n",
    "        current_distance = calculate_total_distance(current_tour, distances)\n",
    "        if current_distance < best_distance:\n",
    "            best_distance = current_distance\n",
    "            best_tour = current_tour + [current_tour[0]]\n",
    "    best_tour_names = []\n",
    "    for city in best_tour:\n",
    "        best_tour_names.append(names[city])\n",
    "        \n",
    "    return best_tour_names, best_distance"
   ]
  },
  {
   "cell_type": "code",
   "execution_count": 23,
   "metadata": {},
   "outputs": [
    {
     "name": "stdout",
     "output_type": "stream",
     "text": [
      "Best Tour: ['Azores', 'London', 'Paris', 'Berlin', 'Rome', 'Istanbul', 'Cairo', 'Baghdad', 'Moscow', 'Bombay', 'Shanghai', 'Tokyo', 'Guam', 'Manila', 'Melbourne', 'Sydney', 'Honolulu', 'San Francisco', 'Seattle', 'Juneau', 'Chicago', 'New York', 'Montreal', 'New Orleans', 'Mexico City', 'Panama City', 'Santiago', 'Buenos Aires', 'Rio de Janeiro', 'Capetown', 'Azores']\n",
      "Total Distance: 527.0\n"
     ]
    }
   ],
   "source": [
    "names = read_names('thirty_cities_names.txt')\n",
    "distances = read_distances('thirty_cities_dist.txt')\n",
    "best_tour, best_distance = tsp_greedy(names, distances)\n",
    "print(\"Best Tour:\", best_tour)\n",
    "print(\"Total Distance:\", best_distance)"
   ]
  }
 ],
 "metadata": {
  "kernelspec": {
   "display_name": "Python 3",
   "language": "python",
   "name": "python3"
  },
  "language_info": {
   "codemirror_mode": {
    "name": "ipython",
    "version": 3
   },
   "file_extension": ".py",
   "mimetype": "text/x-python",
   "name": "python",
   "nbconvert_exporter": "python",
   "pygments_lexer": "ipython3",
   "version": "3.10.13"
  }
 },
 "nbformat": 4,
 "nbformat_minor": 2
}
