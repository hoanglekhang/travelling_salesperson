{
 "cells": [
  {
   "cell_type": "markdown",
   "metadata": {},
   "source": [
    "INPUT: A file containing the names of cities and a file containing the distances bt each pair of cities  \n",
    "OUTPUT: The shortest tour and total distance of this tour  \n",
    "\n",
    "Initialize bestTour as an empty list  \n",
    "Initialize bestDistance as infinity  \n",
    "    FOR each city as startCity in names:  \n",
    "    Initialize currentTour with startCity  \n",
    "    Initialize unvisited cities list excluding startCity  \n",
    "    WHILE there are unvisited cities:  \n",
    "        Set nearestCityDistance as infinity  \n",
    "        Set nearestCity as None  \n",
    "        FOR each candidateCity in unvisited cities:  \n",
    "            Calculate distance from the last city in currentTour to candidateCity  \n",
    "            IF this distance < nearestCityDistance THEN  \n",
    "                Update nearestCityDistance with this distance  \n",
    "                Update nearestCity with candidateCity  \n",
    "        Add nearestCity to currentTour  \n",
    "        Remove nearestCity from unvisited cities  \n",
    "    Add startCity to the end of currentTour to complete the loop  \n",
    "    Calculate the total distance of currentTour  \n",
    "    IF total distance of currentTour < bestDistance THEN  \n",
    "        Update bestDistance with the total distance of currentTour  \n",
    "        Update bestTour with currentTour  \n",
    "PRINT bestTour and bestDistance\n"
   ]
  }
 ],
 "metadata": {
  "kernelspec": {
   "display_name": "Python 3",
   "language": "python",
   "name": "python3"
  },
  "language_info": {
   "codemirror_mode": {
    "name": "ipython",
    "version": 3
   },
   "file_extension": ".py",
   "mimetype": "text/x-python",
   "name": "python",
   "nbconvert_exporter": "python",
   "pygments_lexer": "ipython3",
   "version": "3.10.13"
  }
 },
 "nbformat": 4,
 "nbformat_minor": 2
}
