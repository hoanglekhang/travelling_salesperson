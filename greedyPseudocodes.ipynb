{
 "cells": [
  {
   "cell_type": "markdown",
   "metadata": {},
   "source": [
    "INPUT: distances, a matrix of distances between each pair of *n* cities  \n",
    "OUTPUT: Best TSP solution from n executions of the greedy algorithm\n",
    "\n",
    "Initialize bestTour as an empty list\n",
    "Initialize bestDistance as infinity\n",
    "\n",
    "FOR each cityIndex in range(0, *n*) as startCity:  \n",
    "    Initialize currentTour with startCity  \n",
    "    Initialize unvisitedCities as a set of all cities except startCity  \n",
    "    Initialize currentCity as startCity  \n",
    "    Initialize totalDistance of currentTour as 0  \n",
    "\n",
    "    WHILE unvisitedCities is not empty:\n",
    "        Find nextCity, the nearest unvisited city to currentCity\n",
    "        Add nextCity to currentTour\n",
    "        Remove nextCity from unvisitedCities\n",
    "        Update totalDistance of currentTour\n",
    "        Update currentCity to nextCity\n",
    "\n",
    "\n",
    "    IF totalDistance of currentTour is less than bestDistance:\n",
    "        Update bestTour to currentTour\n",
    "        Update bestDistance to totalDistance"
   ]
  },
  {
   "cell_type": "code",
   "execution_count": 1,
   "metadata": {},
   "outputs": [],
   "source": [
    "def read_names(file_path):\n",
    "    \"\"\"Read city names from a file.\"\"\"\n",
    "    names = []\n",
    "    with open(file_path, 'r') as file:\n",
    "        for line in file:\n",
    "            names.append(line.strip())\n",
    "    return names\n",
    "\n",
    "def read_distances(file_path):\n",
    "    \"\"\"Read city distance matrix from a file.\"\"\"\n",
    "    distances = []\n",
    "    with open(file_path, 'r') as file:\n",
    "        for line in file:\n",
    "            line_distances = []\n",
    "            values = line.split()\n",
    "            for value in values:\n",
    "                line_distances.append(float(value))\n",
    "            distances.append(line_distances)\n",
    "    return distances"
   ]
  },
  {
   "cell_type": "code",
   "execution_count": 2,
   "metadata": {},
   "outputs": [],
   "source": [
    "def find_next_city(current_city, distances, visited):\n",
    "    \"\"\"Find the nearest unvisited city to the current city.\"\"\"\n",
    "    min_distance = float('inf')\n",
    "    next_city = None\n",
    "    for i in range(len(distances[current_city])):\n",
    "        if i not in visited and distances[current_city][i] < min_distance:\n",
    "            min_distance = distances[current_city][i]\n",
    "            next_city = i\n",
    "    return next_city"
   ]
  },
  {
   "cell_type": "code",
   "execution_count": 3,
   "metadata": {},
   "outputs": [],
   "source": [
    "def greedy_tour(start_city, distances):\n",
    "    \"\"\"Construct a tour starting from start_city using the greedy method.\"\"\"\n",
    "    n = len(distances)\n",
    "    visited = {start_city}\n",
    "    tour = [start_city]\n",
    "\n",
    "    while len(visited) < n:\n",
    "        current_city = tour[-1]\n",
    "        next_city = find_next_city(current_city, distances, visited)\n",
    "        tour.append(next_city)\n",
    "        visited.add(next_city)\n",
    "    \n",
    "    return tour"
   ]
  },
  {
   "cell_type": "code",
   "execution_count": null,
   "metadata": {},
   "outputs": [],
   "source": [
    "def calculate_tour_distance(tour, distances):\n",
    "    \"\"\"Calculate the total distance of a tour\"\"\"\n",
    "    total_distance = 0\n",
    "    for i in range(len(tour) - 1):\n",
    "        total_distance += distances[tour[i][tour[i+1]]]\n",
    "    total_distance += distances[tour[-1]tour[0]]"
   ]
  }
 ],
 "metadata": {
  "kernelspec": {
   "display_name": "Python 3",
   "language": "python",
   "name": "python3"
  },
  "language_info": {
   "codemirror_mode": {
    "name": "ipython",
    "version": 3
   },
   "file_extension": ".py",
   "mimetype": "text/x-python",
   "name": "python",
   "nbconvert_exporter": "python",
   "pygments_lexer": "ipython3",
   "version": "3.10.13"
  }
 },
 "nbformat": 4,
 "nbformat_minor": 2
}
